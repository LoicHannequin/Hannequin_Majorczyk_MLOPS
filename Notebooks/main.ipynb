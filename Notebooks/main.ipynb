{
 "cells": [
  {
   "cell_type": "markdown",
   "metadata": {},
   "source": [
    "# Importation de la fonction pipeline"
   ]
  },
  {
   "cell_type": "code",
   "execution_count": 29,
   "metadata": {},
   "outputs": [],
   "source": [
    "import os\n",
    "import sys\n",
    "\n",
    "project_path = os.path.abspath(os.path.join(os.getcwd(), '..'))\n",
    "sys.path.append(project_path)\n",
    "\n",
    "from Application.data_processing import pipeline"
   ]
  },
  {
   "cell_type": "markdown",
   "metadata": {},
   "source": [
    "# Définition des paramètres"
   ]
  },
  {
   "cell_type": "markdown",
   "metadata": {},
   "source": [
    "Il faut défnir le chemin où sont stockés les données. <br>\n",
    "Quel est la variable cible. <br>\n",
    "A partir de quelle variable on veut créer nos subsets. <br>\n",
    "Comment on nomme l'expérience dans mlflow. <br>"
   ]
  },
  {
   "cell_type": "code",
   "execution_count": 30,
   "metadata": {},
   "outputs": [],
   "source": [
    "chemin = '../Data/datanba/'\n",
    "cible ='Rounds'\n",
    "critère = 'Pace'\n",
    "experience_name ='Classification_Playoffs'"
   ]
  },
  {
   "cell_type": "markdown",
   "metadata": {},
   "source": [
    "# Lancement du pipeline"
   ]
  },
  {
   "cell_type": "markdown",
   "metadata": {},
   "source": [
    "On peut uniquement lancer la fonction pipeline qui s'occupe de tout."
   ]
  },
  {
   "cell_type": "code",
   "execution_count": null,
   "metadata": {},
   "outputs": [],
   "source": [
    "resultat = pipeline(chemin,cible,critère,experience_name)\n",
    "print(resultat)"
   ]
  },
  {
   "cell_type": "markdown",
   "metadata": {},
   "source": [
    "# Tout le processus"
   ]
  },
  {
   "cell_type": "markdown",
   "metadata": {},
   "source": [
    "Ou bien c'est possible, si l'on veut passer au travers de certaines étapes, de reprendre chacunes des fonctions et executer celle que l'on souhaite."
   ]
  },
  {
   "cell_type": "markdown",
   "metadata": {},
   "source": [
    "# Importation des packages"
   ]
  },
  {
   "cell_type": "code",
   "execution_count": 52,
   "metadata": {},
   "outputs": [],
   "source": [
    "from Infrastucture.data_loading import load_data\n",
    "from Infrastucture.data_cleaning import clean_data, subsets\n",
    "from Domain.data_preprocessing import preprocessing\n",
    "from Domain.data_modelisation import ModelTrainer, model_testing\n",
    "from Application.data_processing import sauvegarder_modele, charger_modele, pipeline\n",
    "from sklearn.model_selection import train_test_split"
   ]
  },
  {
   "cell_type": "markdown",
   "metadata": {},
   "source": [
    "# Définition des paramètres"
   ]
  },
  {
   "cell_type": "code",
   "execution_count": 33,
   "metadata": {},
   "outputs": [],
   "source": [
    "chemin = '../Data/datanba/'\n",
    "cible ='Rounds'\n",
    "critère = 'Pace'\n",
    "experience_name ='Classification_Playoffs'"
   ]
  },
  {
   "cell_type": "markdown",
   "metadata": {},
   "source": [
    "# Chargement des données"
   ]
  },
  {
   "cell_type": "code",
   "execution_count": 34,
   "metadata": {},
   "outputs": [],
   "source": [
    "df = load_data(chemin)"
   ]
  },
  {
   "cell_type": "markdown",
   "metadata": {},
   "source": [
    "# Traitement des données"
   ]
  },
  {
   "cell_type": "code",
   "execution_count": 35,
   "metadata": {},
   "outputs": [
    {
     "name": "stdout",
     "output_type": "stream",
     "text": [
      "Attend./G: 11 valeurs nulles\n",
      "AS: 29 valeurs nulles\n",
      "['Boston Celtics' 'Los Angeles Lakers' 'Philadelphia 76ers'\n",
      " 'Seattle SuperSonics' 'Phoenix Suns*' 'Atlanta Hawks*' 'Milwaukee Bucks*'\n",
      " 'Kansas City Kings*' 'Houston Rockets*' 'San Antonio Spurs*'\n",
      " 'Washington Bullets*' 'New York Knicks' 'Portland Trail Blazers*'\n",
      " 'Cleveland Cavaliers' 'Indiana Pacers' 'San Diego Clippers'\n",
      " 'New Jersey Nets' 'Chicago Bulls' 'Denver Nuggets'\n",
      " 'Golden State Warriors' 'Utah Jazz' 'Detroit Pistons' 'Boston Celtics*'\n",
      " 'Philadelphia 76ers*' 'Los Angeles Lakers*' 'New York Knicks*'\n",
      " 'Chicago Bulls*' 'Indiana Pacers*' 'Washington Bullets' 'Atlanta Hawks'\n",
      " 'Dallas Mavericks' 'Seattle SuperSonics*' 'Denver Nuggets*'\n",
      " 'New Jersey Nets*' 'Portland Trail Blazers' 'Kansas City Kings'\n",
      " 'Houston Rockets' 'Detroit Pistons*' 'Utah Jazz*' 'Dallas Mavericks*'\n",
      " 'San Antonio Spurs' 'Cleveland Cavaliers*' 'Los Angeles Clippers'\n",
      " 'Sacramento Kings*' 'Phoenix Suns' 'Golden State Warriors*'\n",
      " 'Sacramento Kings' 'Charlotte Hornets' 'Miami Heat'\n",
      " 'Minnesota Timberwolves' 'Orlando Magic' 'Los Angeles Clippers*'\n",
      " 'Miami Heat*' 'Milwaukee Bucks' 'Charlotte Hornets*' 'Orlando Magic*'\n",
      " 'Toronto Raptors' 'Vancouver Grizzlies' 'Minnesota Timberwolves*'\n",
      " 'Washington Wizards' 'Toronto Raptors*' 'Memphis Grizzlies'\n",
      " 'New Orleans Hornets*' 'Memphis Grizzlies*' 'Washington Wizards*'\n",
      " 'Charlotte Bobcats' 'New Orleans Hornets'\n",
      " 'New Orleans/Oklahoma City Hornets' 'Oklahoma City Thunder'\n",
      " 'Oklahoma City Thunder*' 'Charlotte Bobcats*' 'Brooklyn Nets*'\n",
      " 'New Orleans Pelicans' 'New Orleans Pelicans*' 'Brooklyn Nets']\n",
      "['Boston Celtics' 'Los Angeles Lakers' 'Philadelphia 76ers'\n",
      " 'Seattle SuperSonics' 'Phoenix Suns' 'Atlanta Hawks' 'Milwaukee Bucks'\n",
      " 'Kansas City Kings' 'Houston Rockets' 'San Antonio Spurs'\n",
      " 'Washington Bullets' 'New York Knicks' 'Portland Trail Blazers'\n",
      " 'Cleveland Cavaliers' 'Indiana Pacers' 'San Diego Clippers'\n",
      " 'New Jersey Nets' 'Chicago Bulls' 'Denver Nuggets'\n",
      " 'Golden State Warriors' 'Utah Jazz' 'Detroit Pistons' 'Dallas Mavericks'\n",
      " 'Los Angeles Clippers' 'Sacramento Kings' 'Charlotte Hornets'\n",
      " 'Miami Heat' 'Minnesota Timberwolves' 'Orlando Magic' 'Toronto Raptors'\n",
      " 'Vancouver Grizzlies' 'Washington Wizards' 'Memphis Grizzlies'\n",
      " 'New Orleans Hornets' 'Charlotte Bobcats'\n",
      " 'New Orleans/Oklahoma City Hornets' 'Oklahoma City Thunder'\n",
      " 'Brooklyn Nets' 'New Orleans Pelicans']\n"
     ]
    }
   ],
   "source": [
    "df = clean_data(df)"
   ]
  },
  {
   "cell_type": "markdown",
   "metadata": {},
   "source": [
    "# Séparation en subsets"
   ]
  },
  {
   "cell_type": "code",
   "execution_count": 36,
   "metadata": {},
   "outputs": [],
   "source": [
    "subset_sup, subset_inf = subsets(df, critère)"
   ]
  },
  {
   "cell_type": "markdown",
   "metadata": {},
   "source": [
    "Si on veut travailler sur un seul subset par exemple, on le défini."
   ]
  },
  {
   "cell_type": "code",
   "execution_count": 37,
   "metadata": {},
   "outputs": [],
   "source": [
    "subset = subset_sup"
   ]
  },
  {
   "cell_type": "markdown",
   "metadata": {},
   "source": [
    "# Préprocessing"
   ]
  },
  {
   "cell_type": "code",
   "execution_count": 38,
   "metadata": {},
   "outputs": [],
   "source": [
    "X, y, scaler = preprocessing(subset, cible)"
   ]
  },
  {
   "cell_type": "markdown",
   "metadata": {},
   "source": [
    "# Modélisation"
   ]
  },
  {
   "cell_type": "code",
   "execution_count": 39,
   "metadata": {},
   "outputs": [],
   "source": [
    "X_train, X_test, y_train, y_test = train_test_split(X, y, test_size=0.2, random_state=42)\n",
    "trainer = ModelTrainer()"
   ]
  },
  {
   "cell_type": "markdown",
   "metadata": {},
   "source": [
    "# Test des performances des modèles"
   ]
  },
  {
   "cell_type": "code",
   "execution_count": 40,
   "metadata": {},
   "outputs": [
    {
     "name": "stdout",
     "output_type": "stream",
     "text": [
      "Model: RandomForest, Best Score: 0.6096, Best Params: {'max_depth': 10, 'min_samples_split': 10, 'n_estimators': 100}\n",
      "Model: GradientBoosting, Best Score: 0.5975, Best Params: {'learning_rate': 0.2, 'max_depth': 3, 'n_estimators': 200}\n",
      "Model: LogisticRegression, Best Score: 0.6019, Best Params: {'C': 0.1, 'penalty': 'l2'}\n",
      "Model: SVC, Best Score: 0.6118, Best Params: {'C': 0.1, 'kernel': 'linear'}\n"
     ]
    }
   ],
   "source": [
    "best_model, scores = trainer.train_and_evaluate(X_train, y_train, X_test, y_test)"
   ]
  },
  {
   "cell_type": "code",
   "execution_count": null,
   "metadata": {},
   "outputs": [],
   "source": [
    "model_testing(best_model,X_test,y_test)"
   ]
  },
  {
   "cell_type": "code",
   "execution_count": 48,
   "metadata": {},
   "outputs": [
    {
     "data": {
      "text/plain": [
       "{'accuracy': 0.576,\n",
       " 'classification_report': {'CHAMPS': {'precision': 1.0,\n",
       "   'recall': 0.5,\n",
       "   'f1-score': 0.6666666666666666,\n",
       "   'support': 2.0},\n",
       "  'ECF': {'precision': 0.3333333333333333,\n",
       "   'recall': 0.25,\n",
       "   'f1-score': 0.2857142857142857,\n",
       "   'support': 4.0},\n",
       "  'ECFR': {'precision': 0.45454545454545453,\n",
       "   'recall': 0.5263157894736842,\n",
       "   'f1-score': 0.4878048780487805,\n",
       "   'support': 19.0},\n",
       "  'ECSF': {'precision': 0.18181818181818182,\n",
       "   'recall': 0.2,\n",
       "   'f1-score': 0.19047619047619047,\n",
       "   'support': 10.0},\n",
       "  'FINALS': {'precision': 0.0, 'recall': 0.0, 'f1-score': 0.0, 'support': 5.0},\n",
       "  'NP': {'precision': 0.8305084745762712,\n",
       "   'recall': 0.9245283018867925,\n",
       "   'f1-score': 0.875,\n",
       "   'support': 53.0},\n",
       "  'WCF': {'precision': 0.0, 'recall': 0.0, 'f1-score': 0.0, 'support': 5.0},\n",
       "  'WCFR': {'precision': 0.4444444444444444,\n",
       "   'recall': 0.5,\n",
       "   'f1-score': 0.47058823529411764,\n",
       "   'support': 16.0},\n",
       "  'WCSF': {'precision': 0.16666666666666666,\n",
       "   'recall': 0.09090909090909091,\n",
       "   'f1-score': 0.11764705882352941,\n",
       "   'support': 11.0},\n",
       "  'accuracy': 0.576,\n",
       "  'macro avg': {'precision': 0.3790351728204835,\n",
       "   'recall': 0.3324170202521742,\n",
       "   'f1-score': 0.34376636833595225,\n",
       "   'support': 125.0},\n",
       "  'weighted avg': {'precision': 0.5339941790789248,\n",
       "   'recall': 0.576,\n",
       "   'f1-score': 0.5507821958051513,\n",
       "   'support': 125.0}},\n",
       " 'confusion_matrix': array([[ 1,  1,  0,  0,  0,  0,  0,  0,  0],\n",
       "        [ 0,  1,  0,  3,  0,  0,  0,  0,  0],\n",
       "        [ 0,  0, 10,  2,  2,  5,  0,  0,  0],\n",
       "        [ 0,  1,  7,  2,  0,  0,  0,  0,  0],\n",
       "        [ 0,  0,  1,  2,  0,  0,  0,  2,  0],\n",
       "        [ 0,  0,  3,  0,  0, 49,  0,  1,  0],\n",
       "        [ 0,  0,  0,  0,  0,  1,  0,  2,  2],\n",
       "        [ 0,  0,  1,  0,  0,  2,  2,  8,  3],\n",
       "        [ 0,  0,  0,  2,  0,  2,  1,  5,  1]])}"
      ]
     },
     "execution_count": 48,
     "metadata": {},
     "output_type": "execute_result"
    }
   ],
   "source": [
    "from sklearn.metrics import accuracy_score, classification_report, confusion_matrix\n",
    "y_pred=best_model.predict(X_test)\n",
    "\n",
    "scores = {    \"accuracy\": accuracy_score(y_test, y_pred),\n",
    "              \"classification_report\": classification_report(y_test, y_pred, output_dict=True), \n",
    "              \"confusion_matrix\": confusion_matrix(y_test, y_pred)\n",
    "              }\n",
    "scores"
   ]
  },
  {
   "cell_type": "markdown",
   "metadata": {},
   "source": [
    "# Sauvegarder dans mlflow"
   ]
  },
  {
   "cell_type": "code",
   "execution_count": 70,
   "metadata": {},
   "outputs": [
    {
     "name": "stderr",
     "output_type": "stream",
     "text": [
      "2024/12/20 23:25:46 WARNING mlflow.models.model: Model logged without a signature and input example. Please set `input_example` parameter when logging the model to auto infer the model signature.\n"
     ]
    },
    {
     "name": "stdout",
     "output_type": "stream",
     "text": [
      "Modèle sauvegardé avec MLflow dans l'expérience Classification_Playoffs, subset :       Rk                    Team   Age    MOV   SOS    SRS   ORtg   DRtg  \\\n",
      "0      1          Boston Celtics  27.3   7.79 -0.42   7.37  109.4  101.9   \n",
      "1      2      Los Angeles Lakers  26.2   5.90 -0.51   5.40  109.5  103.9   \n",
      "2      3      Philadelphia 76ers  27.0   4.22 -0.18   4.04  105.0  101.0   \n",
      "3      4     Seattle SuperSonics  27.0   4.66 -0.42   4.24  105.8  101.2   \n",
      "4      5            Phoenix Suns  26.5   3.60 -0.35   3.25  105.6  102.2   \n",
      "...   ..                     ...   ...    ...   ...    ...    ...    ...   \n",
      "1249  26       San Antonio Spurs  23.0  -6.49  0.69  -5.80  110.0  116.4   \n",
      "1250  27  Portland Trail Blazers  24.1  -9.02  0.74  -8.29  108.3  117.5   \n",
      "1251  28       Charlotte Hornets  25.1 -10.24  0.13 -10.12  109.3  119.8   \n",
      "1252  29      Washington Wizards  24.9  -9.29  0.00  -9.29  110.5  119.6   \n",
      "1253  30         Detroit Pistons  23.8  -9.11  0.05  -9.06  109.7  118.8   \n",
      "\n",
      "      NRtg   Pace  ...  DefDRB%  DefFT/FGA  Attend./G  Rounds  ANBAT  ANBADT  \\\n",
      "0      7.5  102.6  ...     67.8      0.234    14490.0     ECF      1       1   \n",
      "1      5.6  104.1  ...     66.9      0.181      427.0  CHAMPS      1       1   \n",
      "2      4.0  103.0  ...     66.7      0.217     1331.0  FINALS      1       1   \n",
      "3      4.6  101.8  ...     67.9      0.221    10799.6     WCF      2       1   \n",
      "4      3.4  104.8  ...     66.9      0.213     1674.0    WCSF      1       1   \n",
      "...    ...    ...  ...      ...        ...        ...     ...    ...     ...   \n",
      "1249  -6.4  101.1  ...     76.4      0.174    18211.0      NP      0       1   \n",
      "1250  -9.2   97.2  ...     74.0      0.216    18327.0      NP      0       0   \n",
      "1251 -10.5   97.3  ...     74.5      0.188    16449.0      NP      0       0   \n",
      "1252  -9.1  102.7  ...     72.5      0.201    16899.0      NP      0       0   \n",
      "1253  -9.1   99.8  ...     77.3      0.221    18159.0      NP      0       0   \n",
      "\n",
      "       AS  Année       W/L     PW/PL  \n",
      "0     3.0   1980  0.743902  0.731707  \n",
      "1     2.0   1980  0.731707  0.670732  \n",
      "2     1.0   1980  0.719512  0.634146  \n",
      "3     2.0   1980  0.682927  0.646341  \n",
      "4     2.0   1980  0.670732  0.609756  \n",
      "...   ...    ...       ...       ...  \n",
      "1249  0.0   2024  0.268293  0.317073  \n",
      "1250  0.0   2024  0.256098  0.243902  \n",
      "1251  0.0   2024  0.256098  0.219512  \n",
      "1252  0.0   2024  0.182927  0.243902  \n",
      "1253  0.0   2024  0.170732  0.243902  \n",
      "\n",
      "[622 rows x 29 columns].\n"
     ]
    }
   ],
   "source": [
    "sauvegarder_modele(best_model, \"sklearn_models\", experience_name, subset)"
   ]
  }
 ],
 "metadata": {
  "kernelspec": {
   "display_name": "env_v1",
   "language": "python",
   "name": "python3"
  },
  "language_info": {
   "codemirror_mode": {
    "name": "ipython",
    "version": 3
   },
   "file_extension": ".py",
   "mimetype": "text/x-python",
   "name": "python",
   "nbconvert_exporter": "python",
   "pygments_lexer": "ipython3",
   "version": "3.10.11"
  }
 },
 "nbformat": 4,
 "nbformat_minor": 2
}
