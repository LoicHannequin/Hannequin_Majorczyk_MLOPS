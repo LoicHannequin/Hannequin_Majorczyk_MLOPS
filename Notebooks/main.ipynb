{
 "cells": [
  {
   "cell_type": "markdown",
   "metadata": {},
   "source": [
    "# Importation de la fonction pipeline"
   ]
  },
  {
   "cell_type": "code",
   "execution_count": 29,
   "metadata": {},
   "outputs": [],
   "source": [
    "import os\n",
    "import sys\n",
    "\n",
    "project_path = os.path.abspath(os.path.join(os.getcwd(), '..'))\n",
    "sys.path.append(project_path)\n",
    "\n",
    "from Application.data_processing import pipeline"
   ]
  },
  {
   "cell_type": "markdown",
   "metadata": {},
   "source": [
    "# Définition des paramètres"
   ]
  },
  {
   "cell_type": "markdown",
   "metadata": {},
   "source": [
    "Il faut défnir le chemin où sont stockés les données. <br>\n",
    "Quel est la variable cible. <br>\n",
    "A partir de quelle variable on veut créer nos subsets. <br>\n",
    "Comment on nomme l'expérience dans mlflow. <br>"
   ]
  },
  {
   "cell_type": "code",
   "execution_count": 30,
   "metadata": {},
   "outputs": [],
   "source": [
    "chemin = '../Data/datanba/'\n",
    "cible ='Rounds'\n",
    "critère = 'Pace'\n",
    "experience_name ='Classification_Playoffs'"
   ]
  },
  {
   "cell_type": "markdown",
   "metadata": {},
   "source": [
    "# Lancement du pipeline"
   ]
  },
  {
   "cell_type": "markdown",
   "metadata": {},
   "source": [
    "On peut uniquement lancer la fonction pipeline qui s'occupe de tout."
   ]
  },
  {
   "cell_type": "code",
   "execution_count": null,
   "metadata": {},
   "outputs": [],
   "source": [
    "resultat = pipeline(chemin,cible,critère,experience_name)\n",
    "print(resultat)"
   ]
  },
  {
   "cell_type": "markdown",
   "metadata": {},
   "source": [
    "# Tout le processus"
   ]
  },
  {
   "cell_type": "markdown",
   "metadata": {},
   "source": [
    "Ou bien c'est possible, si l'on veut passer au travers de certaines étapes, de reprendre chacunes des fonctions et executer celle que l'on souhaite."
   ]
  },
  {
   "cell_type": "markdown",
   "metadata": {},
   "source": [
    "# Importation des packages"
   ]
  },
  {
   "cell_type": "code",
   "execution_count": 31,
   "metadata": {},
   "outputs": [],
   "source": [
    "from Infrastucture.data_loading import load_data\n",
    "from Infrastucture.data_cleaning import clean_data, subsets\n",
    "from Domain.data_preprocessing import preprocessing\n",
    "from Domain.data_modelisation import ModelTrainer, model_testing\n",
    "from Application.data_processing import sauvegarder_modele, charger_modele, pipeline\n",
    "from sklearn.model_selection import train_test_split"
   ]
  },
  {
   "cell_type": "markdown",
   "metadata": {},
   "source": [
    "# Définition des paramètres"
   ]
  },
  {
   "cell_type": "code",
   "execution_count": 33,
   "metadata": {},
   "outputs": [],
   "source": [
    "chemin = '../Data/datanba/'\n",
    "cible ='Rounds'\n",
    "critère = 'Pace'\n",
    "experience_name ='Classification_Playoffs'"
   ]
  },
  {
   "cell_type": "markdown",
   "metadata": {},
   "source": [
    "# Chargement des données"
   ]
  },
  {
   "cell_type": "code",
   "execution_count": 34,
   "metadata": {},
   "outputs": [],
   "source": [
    "df = load_data(chemin)"
   ]
  },
  {
   "cell_type": "markdown",
   "metadata": {},
   "source": [
    "# Traitement des données"
   ]
  },
  {
   "cell_type": "code",
   "execution_count": 35,
   "metadata": {},
   "outputs": [
    {
     "name": "stdout",
     "output_type": "stream",
     "text": [
      "Attend./G: 11 valeurs nulles\n",
      "AS: 29 valeurs nulles\n",
      "['Boston Celtics' 'Los Angeles Lakers' 'Philadelphia 76ers'\n",
      " 'Seattle SuperSonics' 'Phoenix Suns*' 'Atlanta Hawks*' 'Milwaukee Bucks*'\n",
      " 'Kansas City Kings*' 'Houston Rockets*' 'San Antonio Spurs*'\n",
      " 'Washington Bullets*' 'New York Knicks' 'Portland Trail Blazers*'\n",
      " 'Cleveland Cavaliers' 'Indiana Pacers' 'San Diego Clippers'\n",
      " 'New Jersey Nets' 'Chicago Bulls' 'Denver Nuggets'\n",
      " 'Golden State Warriors' 'Utah Jazz' 'Detroit Pistons' 'Boston Celtics*'\n",
      " 'Philadelphia 76ers*' 'Los Angeles Lakers*' 'New York Knicks*'\n",
      " 'Chicago Bulls*' 'Indiana Pacers*' 'Washington Bullets' 'Atlanta Hawks'\n",
      " 'Dallas Mavericks' 'Seattle SuperSonics*' 'Denver Nuggets*'\n",
      " 'New Jersey Nets*' 'Portland Trail Blazers' 'Kansas City Kings'\n",
      " 'Houston Rockets' 'Detroit Pistons*' 'Utah Jazz*' 'Dallas Mavericks*'\n",
      " 'San Antonio Spurs' 'Cleveland Cavaliers*' 'Los Angeles Clippers'\n",
      " 'Sacramento Kings*' 'Phoenix Suns' 'Golden State Warriors*'\n",
      " 'Sacramento Kings' 'Charlotte Hornets' 'Miami Heat'\n",
      " 'Minnesota Timberwolves' 'Orlando Magic' 'Los Angeles Clippers*'\n",
      " 'Miami Heat*' 'Milwaukee Bucks' 'Charlotte Hornets*' 'Orlando Magic*'\n",
      " 'Toronto Raptors' 'Vancouver Grizzlies' 'Minnesota Timberwolves*'\n",
      " 'Washington Wizards' 'Toronto Raptors*' 'Memphis Grizzlies'\n",
      " 'New Orleans Hornets*' 'Memphis Grizzlies*' 'Washington Wizards*'\n",
      " 'Charlotte Bobcats' 'New Orleans Hornets'\n",
      " 'New Orleans/Oklahoma City Hornets' 'Oklahoma City Thunder'\n",
      " 'Oklahoma City Thunder*' 'Charlotte Bobcats*' 'Brooklyn Nets*'\n",
      " 'New Orleans Pelicans' 'New Orleans Pelicans*' 'Brooklyn Nets']\n",
      "['Boston Celtics' 'Los Angeles Lakers' 'Philadelphia 76ers'\n",
      " 'Seattle SuperSonics' 'Phoenix Suns' 'Atlanta Hawks' 'Milwaukee Bucks'\n",
      " 'Kansas City Kings' 'Houston Rockets' 'San Antonio Spurs'\n",
      " 'Washington Bullets' 'New York Knicks' 'Portland Trail Blazers'\n",
      " 'Cleveland Cavaliers' 'Indiana Pacers' 'San Diego Clippers'\n",
      " 'New Jersey Nets' 'Chicago Bulls' 'Denver Nuggets'\n",
      " 'Golden State Warriors' 'Utah Jazz' 'Detroit Pistons' 'Dallas Mavericks'\n",
      " 'Los Angeles Clippers' 'Sacramento Kings' 'Charlotte Hornets'\n",
      " 'Miami Heat' 'Minnesota Timberwolves' 'Orlando Magic' 'Toronto Raptors'\n",
      " 'Vancouver Grizzlies' 'Washington Wizards' 'Memphis Grizzlies'\n",
      " 'New Orleans Hornets' 'Charlotte Bobcats'\n",
      " 'New Orleans/Oklahoma City Hornets' 'Oklahoma City Thunder'\n",
      " 'Brooklyn Nets' 'New Orleans Pelicans']\n"
     ]
    }
   ],
   "source": [
    "df = clean_data(df)"
   ]
  },
  {
   "cell_type": "markdown",
   "metadata": {},
   "source": [
    "# Séparation en subsets"
   ]
  },
  {
   "cell_type": "code",
   "execution_count": 36,
   "metadata": {},
   "outputs": [],
   "source": [
    "subset_sup, subset_inf = subsets(df, critère)"
   ]
  },
  {
   "cell_type": "markdown",
   "metadata": {},
   "source": [
    "Si on veut travailler sur un seul subset par exemple, on le défini."
   ]
  },
  {
   "cell_type": "code",
   "execution_count": 37,
   "metadata": {},
   "outputs": [],
   "source": [
    "subset = subset_sup"
   ]
  },
  {
   "cell_type": "markdown",
   "metadata": {},
   "source": [
    "# Préprocessing"
   ]
  },
  {
   "cell_type": "code",
   "execution_count": 38,
   "metadata": {},
   "outputs": [],
   "source": [
    "X, y, scaler = preprocessing(subset, cible)"
   ]
  },
  {
   "cell_type": "markdown",
   "metadata": {},
   "source": [
    "# Modélisation"
   ]
  },
  {
   "cell_type": "code",
   "execution_count": 39,
   "metadata": {},
   "outputs": [],
   "source": [
    "X_train, X_test, y_train, y_test = train_test_split(X, y, test_size=0.2, random_state=42)\n",
    "trainer = ModelTrainer()"
   ]
  },
  {
   "cell_type": "markdown",
   "metadata": {},
   "source": [
    "# Test des performances des modèles"
   ]
  },
  {
   "cell_type": "code",
   "execution_count": null,
   "metadata": {},
   "outputs": [],
   "source": [
    "best_model, scores = trainer.train_and_evaluate(X_train, y_train, X_test, y_test)"
   ]
  },
  {
   "cell_type": "code",
   "execution_count": null,
   "metadata": {},
   "outputs": [],
   "source": [
    "model_testing(best_model,X_test,y_test)"
   ]
  },
  {
   "cell_type": "markdown",
   "metadata": {},
   "source": [
    "# Sauvegarder et charger dans mlflow"
   ]
  },
  {
   "cell_type": "code",
   "execution_count": null,
   "metadata": {},
   "outputs": [],
   "source": [
    "sauvegarder_modele(best_model, f\"modele_sklearn_{subset}\", experience_name, subset)"
   ]
  },
  {
   "cell_type": "code",
   "execution_count": null,
   "metadata": {},
   "outputs": [],
   "source": [
    "charger_modele(f\"modele_sklearn_{subset}\")"
   ]
  }
 ],
 "metadata": {
  "kernelspec": {
   "display_name": "env_v1",
   "language": "python",
   "name": "python3"
  },
  "language_info": {
   "codemirror_mode": {
    "name": "ipython",
    "version": 3
   },
   "file_extension": ".py",
   "mimetype": "text/x-python",
   "name": "python",
   "nbconvert_exporter": "python",
   "pygments_lexer": "ipython3",
   "version": "3.10.11"
  }
 },
 "nbformat": 4,
 "nbformat_minor": 2
}
